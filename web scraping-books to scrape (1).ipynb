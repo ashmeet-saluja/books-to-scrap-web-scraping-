{
 "cells": [
  {
   "cell_type": "code",
   "execution_count": 13,
   "id": "5a227812",
   "metadata": {},
   "outputs": [
    {
     "name": "stdout",
     "output_type": "stream",
     "text": [
      "Requirement already satisfied: requests in ./anaconda3/lib/python3.11/site-packages (2.31.0)\n",
      "Requirement already satisfied: beautifulsoup4 in ./anaconda3/lib/python3.11/site-packages (4.12.2)\n",
      "Requirement already satisfied: pandas in ./anaconda3/lib/python3.11/site-packages (2.0.3)\n",
      "Requirement already satisfied: openpyxl in ./anaconda3/lib/python3.11/site-packages (3.0.10)\n",
      "Requirement already satisfied: charset-normalizer<4,>=2 in ./anaconda3/lib/python3.11/site-packages (from requests) (2.0.4)\n",
      "Requirement already satisfied: idna<4,>=2.5 in ./anaconda3/lib/python3.11/site-packages (from requests) (3.4)\n",
      "Requirement already satisfied: urllib3<3,>=1.21.1 in ./anaconda3/lib/python3.11/site-packages (from requests) (1.26.16)\n",
      "Requirement already satisfied: certifi>=2017.4.17 in ./anaconda3/lib/python3.11/site-packages (from requests) (2023.7.22)\n",
      "Requirement already satisfied: soupsieve>1.2 in ./anaconda3/lib/python3.11/site-packages (from beautifulsoup4) (2.4)\n",
      "Requirement already satisfied: python-dateutil>=2.8.2 in ./anaconda3/lib/python3.11/site-packages (from pandas) (2.8.2)\n",
      "Requirement already satisfied: pytz>=2020.1 in ./anaconda3/lib/python3.11/site-packages (from pandas) (2023.3.post1)\n",
      "Requirement already satisfied: tzdata>=2022.1 in ./anaconda3/lib/python3.11/site-packages (from pandas) (2023.3)\n",
      "Requirement already satisfied: numpy>=1.21.0 in ./anaconda3/lib/python3.11/site-packages (from pandas) (1.24.3)\n",
      "Requirement already satisfied: et_xmlfile in ./anaconda3/lib/python3.11/site-packages (from openpyxl) (1.1.0)\n",
      "Requirement already satisfied: six>=1.5 in ./anaconda3/lib/python3.11/site-packages (from python-dateutil>=2.8.2->pandas) (1.16.0)\n"
     ]
    }
   ],
   "source": [
    "!pip install requests beautifulsoup4 pandas openpyxl\n"
   ]
  },
  {
   "cell_type": "code",
   "execution_count": 15,
   "id": "23595bb5",
   "metadata": {},
   "outputs": [
    {
     "name": "stdout",
     "output_type": "stream",
     "text": [
      "                                                Title   Price Availability\n",
      "0                                A Light in the Attic  £51.77     In stock\n",
      "1                                  Tipping the Velvet  £53.74     In stock\n",
      "2                                          Soumission  £50.10     In stock\n",
      "3                                       Sharp Objects  £47.82     In stock\n",
      "4               Sapiens: A Brief History of Humankind  £54.23     In stock\n",
      "5                                     The Requiem Red  £22.65     In stock\n",
      "6   The Dirty Little Secrets of Getting Your Dream...  £33.34     In stock\n",
      "7   The Coming Woman: A Novel Based on the Life of...  £17.93     In stock\n",
      "8   The Boys in the Boat: Nine Americans and Their...  £22.60     In stock\n",
      "9                                     The Black Maria  £52.15     In stock\n",
      "10     Starving Hearts (Triangular Trade Trilogy, #1)  £13.99     In stock\n",
      "11                              Shakespeare's Sonnets  £20.66     In stock\n",
      "12                                        Set Me Free  £17.46     In stock\n",
      "13  Scott Pilgrim's Precious Little Life (Scott Pi...  £52.29     In stock\n",
      "14                          Rip it Up and Start Again  £35.02     In stock\n",
      "15  Our Band Could Be Your Life: Scenes from the A...  £57.25     In stock\n",
      "16                                               Olio  £23.88     In stock\n",
      "17  Mesaerion: The Best Science Fiction Stories 18...  £37.59     In stock\n",
      "18                       Libertarianism for Beginners  £51.33     In stock\n",
      "19                            It's Only the Himalayas  £45.17     In stock\n"
     ]
    }
   ],
   "source": [
    "import requests\n",
    "from bs4 import BeautifulSoup\n",
    "import pandas as pd\n",
    "\n",
    "# URL of the Books to Scrape website\n",
    "url = 'http://books.toscrape.com/'\n",
    "\n",
    "# Send a GET request to the URL\n",
    "response = requests.get(url)\n",
    "soup = BeautifulSoup(response.text, 'html.parser')\n",
    "\n",
    "# Initialize a list to store book details\n",
    "book_details = []\n",
    "\n",
    "# Find all book containers\n",
    "books = soup.find_all('article', class_='product_pod')\n",
    "\n",
    "for book in books:\n",
    "    # Extract the book title\n",
    "    title = book.h3.a['title']\n",
    "    \n",
    "    # Extract the book price and fix encoding issues\n",
    "    price = book.find('p', class_='price_color').text\n",
    "    price = price.replace('Â', '')\n",
    "    \n",
    "    # Extract the availability status\n",
    "    availability = book.find('p', class_='instock availability').text.strip()\n",
    "\n",
    "    # Append the book details to the list\n",
    "    book_details.append({\n",
    "        'Title': title,\n",
    "        'Price': price,\n",
    "        'Availability': availability\n",
    "    })\n",
    "\n",
    "# Convert the list of book details to a pandas DataFrame\n",
    "df_books = pd.DataFrame(book_details)\n",
    "\n",
    "# Display the book details\n",
    "print(df_books)\n",
    "\n",
    "# Save the book details to an Excel file\n",
    "df_books.to_excel('scraped_book_details.xlsx', index=False)\n"
   ]
  },
  {
   "cell_type": "code",
   "execution_count": null,
   "id": "79494d18",
   "metadata": {},
   "outputs": [],
   "source": []
  }
 ],
 "metadata": {
  "kernelspec": {
   "display_name": "Python 3 (ipykernel)",
   "language": "python",
   "name": "python3"
  },
  "language_info": {
   "codemirror_mode": {
    "name": "ipython",
    "version": 3
   },
   "file_extension": ".py",
   "mimetype": "text/x-python",
   "name": "python",
   "nbconvert_exporter": "python",
   "pygments_lexer": "ipython3",
   "version": "3.11.5"
  }
 },
 "nbformat": 4,
 "nbformat_minor": 5
}
